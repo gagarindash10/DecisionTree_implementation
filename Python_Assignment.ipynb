{
  "nbformat": 4,
  "nbformat_minor": 0,
  "metadata": {
    "kernelspec": {
      "display_name": "Python 3",
      "language": "python",
      "name": "python3"
    },
    "language_info": {
      "codemirror_mode": {
        "name": "ipython",
        "version": 3
      },
      "file_extension": ".py",
      "mimetype": "text/x-python",
      "name": "python",
      "nbconvert_exporter": "python",
      "pygments_lexer": "ipython3",
      "version": "3.6.8"
    },
    "colab": {
      "name": "Copy of 1.Python Assignment.ipynb",
      "provenance": [],
      "collapsed_sections": [],
      "include_colab_link": true
    }
  },
  "cells": [
    {
      "cell_type": "markdown",
      "metadata": {
        "id": "view-in-github",
        "colab_type": "text"
      },
      "source": [
        "<a href=\"https://colab.research.google.com/github/gagarindash10/DecisionTree_implementation/blob/master/Python_Assignment.ipynb\" target=\"_parent\"><img src=\"https://colab.research.google.com/assets/colab-badge.svg\" alt=\"Open In Colab\"/></a>"
      ]
    },
    {
      "cell_type": "markdown",
      "metadata": {
        "id": "l0ZzOlyxB-kf"
      },
      "source": [
        "<h1>Python: without numpy or sklearn </h1>"
      ]
    },
    {
      "cell_type": "markdown",
      "metadata": {
        "id": "C0xO8JV9B-ki"
      },
      "source": [
        "<h3> Q1: Given two matrices please print the product of those two matrices </h3>\n",
        "<pre>\n",
        "\n",
        "Ex 1: A   = [[1 3 4]\n",
        "             [2 5 7]\n",
        "             [5 9 6]]\n",
        "      B   = [[1 0 0]\n",
        "             [0 1 0]\n",
        "             [0 0 1]]\n",
        "      A*B = [[1 3 4]\n",
        "             [2 5 7]\n",
        "             [5 9 6]]\n",
        "\n",
        "     \n",
        "Ex 2: A   = [[1 2]\n",
        "             [3 4]]\n",
        "      B   = [[1 2 3 4 5]\n",
        "             [5 6 7 8 9]]\n",
        "      A*B = [[11 14 17 20 23]\n",
        "             [23 30 36 42 51]]\n",
        "             \n",
        "Ex 3: A   = [[1 2]\n",
        "             [3 4]]\n",
        "      B   = [[1 4]\n",
        "             [5 6]\n",
        "             [7 8]\n",
        "             [9 6]]\n",
        "      A*B =Not possible\n",
        "</pre>"
      ]
    },
    {
      "cell_type": "code",
      "metadata": {
        "id": "rnssAfpgB-kj",
        "colab": {
          "base_uri": "https://localhost:8080/"
        },
        "outputId": "10c06427-f044-4baf-f112-2e0743b491a1"
      },
      "source": [
        "# write your python code here\n",
        "# you can take the above example as sample input for your program to test\n",
        "# it should work for any general input try not to hard code for only given input examples\n",
        "\n",
        "\n",
        "# you can free to change all these codes/structure\n",
        "# here A and B are list of lists\n",
        "\n",
        "def matrix_mul(A,B):\n",
        "    if(len(A[0])!= len(B)):\n",
        "        return \"multiplication Not Possible\"\n",
        "    result = []\n",
        "    temp_row=len(B[0])*[0]\n",
        "    for i in range(len(A)):\n",
        "        result.append(temp_row[:])\n",
        "    for i in range(len(A)):\n",
        "        for j in range(len(B[0])):\n",
        "            sum=0\n",
        "            for k in range(len(A[0])):\n",
        "                sum += A[i][k]*B[k][j]\n",
        "            result[i][j] = sum\n",
        "    \n",
        "    return result\n",
        "\n",
        "A = [[1,2],[3,4]]\n",
        "B = [[1 ,2, 3, 4, 5],\n",
        "      [5, 6 ,7 ,8, 9]]\n",
        "\n",
        "matrix_mul(A, B)"
      ],
      "execution_count": null,
      "outputs": [
        {
          "output_type": "execute_result",
          "data": {
            "text/plain": [
              "[[11, 14, 17, 20, 23], [23, 30, 37, 44, 51]]"
            ]
          },
          "metadata": {
            "tags": []
          },
          "execution_count": 3
        }
      ]
    },
    {
      "cell_type": "markdown",
      "metadata": {
        "id": "at4VwLggB-kn"
      },
      "source": [
        "<h3> Q2: Select a number randomly with probability proportional to its magnitude from the given array of n elements</h3>\n",
        "\n",
        "consider an experiment, selecting an element from the list A randomly with probability proportional to its magnitude.\n",
        "assume we are doing the same experiment for 100 times with replacement, in each experiment you will print a number that is selected randomly from A.\n",
        "\n",
        "<pre>\n",
        "Ex 1: A = [0 5 27 6 13 28 100 45 10 79]\n",
        "let f(x) denote the number of times x getting selected in 100 experiments.\n",
        "f(100) > f(79) > f(45) > f(28) > f(27) > f(13) > f(10) > f(6) > f(5) > f(0)\n",
        "</pre>"
      ]
    },
    {
      "cell_type": "code",
      "metadata": {
        "id": "B6S2dpBhB-kn"
      },
      "source": [
        "from random import uniform\n",
        "# write your python code here\n",
        "# you can take the above example as sample input for your program to test\n",
        "# it should work for any general input try not to hard code for only given input examples\n",
        "\n",
        "\n",
        "# you can free to change all these codes/structure\n",
        "def pick_a_number_from_list(A):\n",
        "    # your code here for picking an element from with the probability propotional to its magnitude\n",
        "    #.\n",
        "    #.\n",
        "    #.\n",
        "    return #selected_random_number\n",
        "\n",
        "def sampling_based_on_magnitued():\n",
        "    for i in range(1,100):\n",
        "        number = pick_a_number_from_list(A)\n",
        "        print(number)\n",
        "\n",
        "sampling_based_on_magnitued()"
      ],
      "execution_count": null,
      "outputs": []
    },
    {
      "cell_type": "code",
      "metadata": {
        "colab": {
          "base_uri": "https://localhost:8080/"
        },
        "id": "hd9brDtoTij7",
        "outputId": "b89bab50-657e-4e48-8f56-1b1102dfbae2"
      },
      "source": [
        "#my code a bit different in approach\n",
        "\n",
        "import numpy as np\n",
        "\n",
        "\n",
        "def pick_a_number_from_list(A):\n",
        "  s = sum(A)\n",
        "  norm_sum = [a/s for a in A]\n",
        "  cum_norm_sum = []\n",
        "  cum_norm_sum.append(norm_sum[0])\n",
        "  for i in range(1,len(norm_sum)):\n",
        "    cum_norm_sum.append(cum_norm_sum[-1] + norm_sum[i])\n",
        "  r = np.random.uniform(0.0,1.0,1)\n",
        "  for i in range(len(cum_norm_sum)):\n",
        "    if(r < cum_norm_sum[i]):\n",
        "      return A[i]\n",
        "\n",
        "\n",
        "samples = []\n",
        "A = [0, 5, 27, 6, 13, 28, 100, 45, 10, 79]\n",
        "for i in range(1000):\n",
        "  samples.append(pick_a_number_from_list(A))\n",
        "\n",
        "\n",
        "freq = {}\n",
        "for items in samples:\n",
        "  freq[items] = samples.count(items)\n",
        "\n",
        "print(freq)"
      ],
      "execution_count": null,
      "outputs": [
        {
          "output_type": "stream",
          "text": [
            "{100: 288, 79: 250, 27: 101, 45: 142, 13: 48, 28: 98, 10: 34, 5: 18, 6: 21}\n"
          ],
          "name": "stdout"
        }
      ]
    },
    {
      "cell_type": "markdown",
      "metadata": {
        "id": "D1xQy2WWB-kq"
      },
      "source": [
        "<h3> Q3: Replace the digits in the string with #</h3>\n",
        "\n",
        "consider a string that will have digits in that, we need to remove all the not digits and replace the digits with #\n",
        "<pre>\n",
        "Ex 1: A = 234                Output: ###\n",
        "Ex 2: A = a2b3c4             Output: ###\n",
        "Ex 3: A = abc                Output:   (empty string)\n",
        "Ex 5: A = #2a$#b%c%561#      Output: ####\n",
        "</pre>"
      ]
    },
    {
      "cell_type": "code",
      "metadata": {
        "id": "fxczi2jzB-kr"
      },
      "source": [
        "import re\n",
        "# write your python code here\n",
        "# you can take the above example as sample input for your program to test\n",
        "# it should work for any general input try not to hard code for only given input examples\n",
        "\n",
        "# you can free to change all these codes/structure\n",
        "# String: it will be the input to your program\n",
        "def replace_digits(String):\n",
        "    # write your code\n",
        "    # \n",
        "    return() # modified string which is after replacing the # with digits\n",
        "\n",
        "replace_digits(String)"
      ],
      "execution_count": null,
      "outputs": []
    },
    {
      "cell_type": "code",
      "metadata": {
        "colab": {
          "base_uri": "https://localhost:8080/"
        },
        "id": "HkC7SWv4UBLJ",
        "outputId": "bab962bf-fbdf-4b30-d766-615b7f30a4fc"
      },
      "source": [
        "def replace_digits(s):\n",
        "    lis = ['1','2','3','4','5','6','7','8','9','0']\n",
        "    res = ''\n",
        "    for i in s:\n",
        "        if i in lis:\n",
        "            res = res+'#'\n",
        "    return res\n",
        "\n",
        "print(replace_digits('234')+'\\n'\n",
        "      +replace_digits('#2a$#b%c%561#')+'\\n'\n",
        "      +replace_digits('abc'))"
      ],
      "execution_count": null,
      "outputs": [
        {
          "output_type": "stream",
          "text": [
            "###\n",
            "####\n",
            "\n"
          ],
          "name": "stdout"
        }
      ]
    },
    {
      "cell_type": "markdown",
      "metadata": {
        "id": "j7h0Ywg7B-kw"
      },
      "source": [
        "<h3> Q4: Students marks dashboard</h3>\n",
        "\n",
        "consider the marks list of class students given two lists <br>\n",
        "Students = ['student1','student2','student3','student4','student5','student6','student7','student8','student9','student10'] <br>\n",
        "Marks = [45, 78, 12, 14, 48, 43, 45, 98, 35, 80] <br>\n",
        "from the above two lists the Student[0] got Marks[0],  Student[1] got Marks[1] and so on <br><br>\n",
        "your task is to print the name of students\n",
        "<strong>a. Who got top 5 ranks, in the descending order of marks</strong> <br>\n",
        "<strong>b. Who got least 5 ranks, in the increasing order of marks</strong><br>\n",
        "<strong>d. Who got marks between  &gt;25th percentile &lt;75th percentile, in the increasing order of marks</strong>\n",
        "\n",
        "<pre>\n",
        "Ex 1: \n",
        "Students=['student1','student2','student3','student4','student5','student6','student7','student8','student9','student10'] \n",
        "Marks = [45, 78, 12, 14, 48, 43, 47, 98, 35, 80]\n",
        "a. \n",
        "student8  98\n",
        "student10 80\n",
        "student2  78\n",
        "student5  48\n",
        "student7  47\n",
        "b.\n",
        "student3 12\n",
        "student4 14\n",
        "student9 35\n",
        "student6 43\n",
        "student1 45\n",
        "c.\n",
        "student9 35\n",
        "student6 43\n",
        "student1 45\n",
        "student7 47\n",
        "student5 48\n",
        "</pre>"
      ]
    },
    {
      "cell_type": "code",
      "metadata": {
        "id": "cxPJgItsB-kx"
      },
      "source": [
        "# write your python code here\n",
        "# you can take the above example as sample input for your program to test\n",
        "# it should work for any general input try not to hard code for only given input examples\n",
        "\n",
        "# you can free to change all these codes/structure\n",
        "def display_dash_board(students, marks):\n",
        "    # write code for computing top top 5 students\n",
        "    top_5_students = # compute this\n",
        "    # write code for computing top least 5 students\n",
        "    least_5_students = # compute this\n",
        "    # write code for computing top least 5 students\n",
        "    students_within_25_and_75 = # compute this\n",
        "    \n",
        "    return top_5_students, least_5_students, students_within_25_and_75\n",
        "\n",
        "top_5_students, least_5_students, students_within_25_and_75 = display_dash_board(students, marks)\n",
        "print(# those values)"
      ],
      "execution_count": null,
      "outputs": []
    },
    {
      "cell_type": "code",
      "metadata": {
        "colab": {
          "base_uri": "https://localhost:8080/"
        },
        "id": "3VZ92ainUqZ6",
        "outputId": "1dcb5abe-32e6-41fe-d340-aac5f51cd6a2"
      },
      "source": [
        "import math\n",
        "def display_dash_board(students, Marks):\n",
        "  ans = []\n",
        "  dic = dict(zip(Students,Marks))\n",
        "  ans1 = sorted(dic.items(), key=lambda x: x[1],reverse=True)\n",
        "  ans1 = ans1[:5]\n",
        "  ans2 = sorted(dic.items(), key=lambda x: x[1])\n",
        "  ans2 = ans2[:5]\n",
        "  smallest_mark = min(Marks)\n",
        "  highest_mark = max(Marks)\n",
        "\n",
        "  range1 = highest_mark-smallest_mark\n",
        "\n",
        "  sort_marks = sorted(Marks)\n",
        "  index_small = len(Marks)*0.25\n",
        "  rounded_small_index = math.ceil(index_small)\n",
        "  index_large = len(Marks)*0.75\n",
        "  rounded_large_index = math.ceil(index_large)\n",
        "\n",
        "  res = sort_marks[rounded_small_index-1:rounded_large_index-1]\n",
        "\n",
        "  keys, values = [],[]\n",
        "  for i in res:\n",
        "    for key,value in dic.items():\n",
        "      if(i==value):\n",
        "        keys.append(key)\n",
        "        values.append(value)\n",
        "  ans3 = dict(zip(keys,values))\n",
        "  ans3 = sorted(ans3.items(),key=lambda x: x[1])\n",
        "  \n",
        "  return ans1,ans2,ans3\n",
        "\n",
        "Students=['student1','student2','student3','student4','student5','student6','student7','student8','student9','student10'] \n",
        "Marks = [45, 78, 12, 14, 48, 43, 47, 98, 35, 80]\n",
        "\n",
        "ans1, ans2, ans3 = display_dash_board(Students,Marks)\n",
        "print(ans1)\n",
        "print(ans2)\n",
        "print(ans3)"
      ],
      "execution_count": null,
      "outputs": [
        {
          "output_type": "stream",
          "text": [
            "[('student8', 98), ('student10', 80), ('student2', 78), ('student5', 48), ('student7', 47)]\n",
            "[('student3', 12), ('student4', 14), ('student9', 35), ('student6', 43), ('student1', 45)]\n",
            "[('student9', 35), ('student6', 43), ('student1', 45), ('student7', 47), ('student5', 48)]\n"
          ],
          "name": "stdout"
        }
      ]
    },
    {
      "cell_type": "markdown",
      "metadata": {
        "id": "qha0OhQHB-k1"
      },
      "source": [
        "<h3> Q5: Find the closest points</h3>\n",
        "\n",
        "consider you have given n data points in the form of list of tuples like S=[(x1,y1),(x2,y2),(x3,y3),(x4,y4),(x5,y5),..,(xn,yn)] and a point P=(p,q) <br> your task is to find 5 closest points(based on cosine distance) in S from P\n",
        "<br>cosine distance between two points (x,y) and (p,q) is defind as $cos^{-1}(\\frac{(x\\cdot p+y\\cdot q)}{\\sqrt(x^2+y^2)\\cdot\\sqrt(p^2+q^2)})$\n",
        "<pre>\n",
        "Ex:\n",
        "\n",
        "S= [(1,2),(3,4),(-1,1),(6,-7),(0, 6),(-5,-8),(-1,-1)(6,0),(1,-1)]\n",
        "P= (3,-4)\n",
        "<img src='https://i.imgur.com/vIFPOcG.jpg', width=300>\n",
        "Output:\n",
        "(6,-7)\n",
        "(1,-1)\n",
        "(6,0)\n",
        "(-5,-8)\n",
        "(-1,-1)\n",
        "</pre>"
      ]
    },
    {
      "cell_type": "code",
      "metadata": {
        "id": "wA5I1g-2B-k2"
      },
      "source": [
        "import math\n",
        "\n",
        "# write your python code here\n",
        "# you can take the above example as sample input for your program to test\n",
        "# it should work for any general input try not to hard code for only given input examples\n",
        "# you can free to change all these codes/structure\n",
        "\n",
        "\n",
        "# here S is list of tuples and P is a tuple ot len=2\n",
        "def closest_points_to_p(S, P):\n",
        "    # write your code here\n",
        "    return closest_points_to_p  # its list of tuples\n",
        "\n",
        "S= [(1,2),(3,4),(-1,1),(6,-7),(0, 6),(-5,-8),(-1,-1)(6,0),(1,-1)]\n",
        "P= (3,-4)\n",
        "points = closest_points_to_p(S, P)\n",
        "print() #print the returned values"
      ],
      "execution_count": null,
      "outputs": []
    },
    {
      "cell_type": "code",
      "metadata": {
        "colab": {
          "base_uri": "https://localhost:8080/"
        },
        "id": "uVPWvxgIVcqL",
        "outputId": "6c3c5385-526e-4975-891d-d8e58c08ffe7"
      },
      "source": [
        "def closest_points_to_p(S, P):    \n",
        "    point = []\n",
        "    dist = []\n",
        "    ans = []\n",
        "    for i in range(len(S)):\n",
        "        num = (P[0]*S[i][0])+(P[1]*S[i][1])\n",
        "        den = (math.sqrt((P[0]*P[0])+(P[1]*P[1])))*(math.sqrt((S[i][0]*S[i][0])+(S[i][1]*S[i][1])))\n",
        "        res = math.acos(num/den)\n",
        "        point.append(str(S[i]))\n",
        "        dist.append(res)\n",
        "    my_dict = dict(zip(point, dist))\n",
        "    for w in sorted(my_dict, key=my_dict.get, reverse=False):\n",
        "        ans.append(w)\n",
        "    for i in range(5):\n",
        "        print(ans[i])\n",
        "\n",
        "S= [(1,2),(3,4),(-1,1),(6,-7),(0, 6),(-5,-8),(-1,-1),(6,0),(1,-1)]\n",
        "P= (3,-4)\n",
        "closest_points_to_p(S, P)\n"
      ],
      "execution_count": null,
      "outputs": [
        {
          "output_type": "stream",
          "text": [
            "(6, -7)\n",
            "(1, -1)\n",
            "(6, 0)\n",
            "(-5, -8)\n",
            "(-1, -1)\n"
          ],
          "name": "stdout"
        }
      ]
    },
    {
      "cell_type": "markdown",
      "metadata": {
        "id": "-g11jeAiB-k5"
      },
      "source": [
        "<h3> Q6: Find Which line separates oranges and apples</h3>\n",
        "consider you have given two set of data points in the form of list of tuples like \n",
        "<pre>\n",
        "Red =[(R11,R12),(R21,R22),(R31,R32),(R41,R42),(R51,R52),..,(Rn1,Rn2)]\n",
        "Blue=[(B11,B12),(B21,B22),(B31,B32),(B41,B42),(B51,B52),..,(Bm1,Bm2)]\n",
        "</pre>\n",
        "and set of line equations(in the string formate, i.e list of strings)\n",
        "<pre>\n",
        "Lines = [a1x+b1y+c1,a2x+b2y+c2,a3x+b3y+c3,a4x+b4y+c4,..,K lines]\n",
        "Note: you need to string parsing here and get the coefficients of x,y and intercept\n",
        "</pre>\n",
        "your task is to for each line that is given print \"YES\"/\"NO\", you will print yes, if all the red points are one side of the line and blue points are other side of the line, otherwise no\n",
        "<pre>\n",
        "Ex:\n",
        "Red= [(1,1),(2,1),(4,2),(2,4), (-1,4)]\n",
        "Blue= [(-2,-1),(-1,-2),(-3,-2),(-3,-1),(1,-3)]\n",
        "Lines=[\"1x+1y+0\",\"1x-1y+0\",\"1x+0y-3\",\"0x+1y-0.5\"]\n",
        "<img src='https://i.imgur.com/DoQf7mE.jpg' width=400>\n",
        "Output:\n",
        "YES\n",
        "NO\n",
        "NO\n",
        "YES\n",
        "</pre>"
      ]
    },
    {
      "cell_type": "code",
      "metadata": {
        "id": "eRxExaTRB-k6"
      },
      "source": [
        "import math\n",
        "# write your python code here\n",
        "# you can take the above example as sample input for your program to test\n",
        "# it should work for any general input try not to hard code for only given input strings\n",
        "\n",
        "\n",
        "# you can free to change all these codes/structure\n",
        "def i_am_the_one(red,blue,line):\n",
        "    # your code\n",
        "    return #yes/no\n",
        "\n",
        "Red= [(1,1),(2,1),(4,2),(2,4), (-1,4)]\n",
        "Blue= [(-2,-1),(-1,-2),(-3,-2),(-3,-1),(1,-3)]\n",
        "Lines=[\"1x+1y+0\",\"1x-1y+0\",\"1x+0y-3\",\"0x+1y-0.5\"]\n",
        "\n",
        "for i in Lines:\n",
        "    yes_or_no = i_am_the_one(Red, Blue, i)\n",
        "    print() # the returned value"
      ],
      "execution_count": null,
      "outputs": []
    },
    {
      "cell_type": "code",
      "metadata": {
        "colab": {
          "base_uri": "https://localhost:8080/"
        },
        "id": "zBW-6kXZWK_J",
        "outputId": "42172d47-6c90-4d4f-a872-35b697e6a796"
      },
      "source": [
        "import re\n",
        "\n",
        "red= [(1,1),(2,1),(4,2),(2,4), (-1,4)]\n",
        "blue= [(-2,-1),(-1,-2),(-3,-2),(-3,-1),(1,-3)]\n",
        "Lines=[\"1x+1y+0\",\"1x-1y+0\",\"1x+0y-3\",\"0x+1y-0.5\"]\n",
        "\n",
        "#using the concept that, if two points lie on opposite sides of a line then if we put them in the form of ax+by+c, one of them should value to > 0, while the other being < 0\n",
        "def i_am_the_one(a,b,c):\n",
        "    blue_points = []\n",
        "    red_points = []\n",
        "    for i in range(len(blue)):\n",
        "        each_pt_blue = ((a*blue[i][0])+(b*blue[i][1])+c)\n",
        "        blue_points.append(each_pt_blue)\n",
        "\n",
        "    for i in range(len(red)):\n",
        "        each_pt_red = ((a*red[i][0])+(b*red[i][1])+c)\n",
        "        red_points.append(each_pt_red)\n",
        "\n",
        "    bool_red = all(j > 0 for j in red_points)\n",
        "    bool_blue = all(j < 0 for j in blue_points)\n",
        "    \n",
        "      \n",
        "\n",
        "    if (bool_blue == True and bool_red == True):\n",
        "        return \"YES\"\n",
        "    else:\n",
        "        return \"NO\"\n",
        "\n",
        "\n",
        "for line in Lines:\n",
        "    a, b, c = [float(x.strip()) for x in re.split('x|y', line)]\n",
        "    print(i_am_the_one(a,b,c))"
      ],
      "execution_count": null,
      "outputs": [
        {
          "output_type": "stream",
          "text": [
            "YES\n",
            "NO\n",
            "NO\n",
            "YES\n"
          ],
          "name": "stdout"
        }
      ]
    },
    {
      "cell_type": "markdown",
      "metadata": {
        "id": "9OBpURbNB-k9"
      },
      "source": [
        "<h3> Q7: Filling the missing values in the specified formate</h3>\n",
        "You will be given a string with digits and '\\_'(missing value) symbols you have to replace the '\\_' symbols as explained \n",
        "<pre>\n",
        "Ex 1: _, _, _, 24 ==> 24/4, 24/4, 24/4, 24/4 i.e we. have distributed the 24 equally to all 4 places <br>\n",
        "Ex 2: 40, _, _, _, 60 ==> (60+40)/5,(60+40)/5,(60+40)/5,(60+40)/5,(60+40)/5 ==> 20, 20, 20, 20, 20 i.e. the sum of (60+40) is distributed qually to all 5 places<br>\n",
        "Ex 3: 80, _, _, _, _  ==> 80/5,80/5,80/5,80/5,80/5 ==> 16, 16, 16, 16, 16 i.e. the 80 is distributed qually to all 5 missing values that are right to it<br>\n",
        "Ex 4: _, _, 30, _, _, _, 50, _, _  \n",
        "==> we will fill the missing values from left to right \n",
        "    a. first we will distribute the 30 to left two missing values (10, 10, 10, _, _, _, 50, _, _)\n",
        "    b. now distribute the sum (10+50) missing values in between (10, 10, 12, 12, 12, 12, 12, _, _) \n",
        "    c. now we will distribute 12 to right side missing values (10, 10, 12, 12, 12, 12, 4, 4, 4)\n",
        "</pre>\n",
        "for a given string with comma seprate values, which will have both missing values numbers like ex: \"_, _, x, _, _, _\"\n",
        "you need fill the missing values\n",
        "\n",
        "Q: your program reads a string like ex: \"_, _, x, _, _, _\" and returns the filled sequence\n",
        "\n",
        "Ex: \n",
        "<pre>\n",
        "Input1: \"_,_,_,24\"\n",
        "Output1: 6,6,6,6\n",
        "\n",
        "Input2: \"40,_,_,_,60\"\n",
        "Output2: 20,20,20,20,20\n",
        "\n",
        "Input3: \"80,_,_,_,_\"\n",
        "Output3: 16,16,16,16,16\n",
        "\n",
        "Input4: \"_,_,30,_,_,_,50,_,_\"\n",
        "Output4: 10,10,12,12,12,12,4,4,4\n",
        "</pre>\n",
        "\n"
      ]
    },
    {
      "cell_type": "code",
      "metadata": {
        "id": "nZmpzHs_B-k-"
      },
      "source": [
        "# write your python code here\n",
        "# you can take the above example as sample input for your program to test\n",
        "# it should work for any general input try not to hard code for only given input strings\n",
        "\n",
        "\n",
        "# you can free to change all these codes/structure\n",
        "def curve_smoothing(string):\n",
        "    # your code\n",
        "    return #list of values\n",
        "\n",
        "S=  \"_,_,30,_,_,_,50,_,_\"\n",
        "smoothed_values= curve_smoothing(S)\n",
        "print(# print above values)"
      ],
      "execution_count": null,
      "outputs": []
    },
    {
      "cell_type": "code",
      "metadata": {
        "colab": {
          "base_uri": "https://localhost:8080/"
        },
        "id": "8xh18ehkWUA6",
        "outputId": "72b14c28-8a1a-49a0-80f9-b57e37ae736d"
      },
      "source": [
        "def fill_in_the_blanks(S):\n",
        "    a = [x for x in S.split(',')]\n",
        "    count = 0\n",
        "    middle = 0\n",
        "    # left\n",
        "    for i in range(len(a)):\n",
        "        if a[i] == '_':\n",
        "            count = count + 1\n",
        "        else:\n",
        "            for j in range(i + 1):\n",
        "                a[j] = str((float(a[i]) / (count + 1)))\n",
        "            middle = i\n",
        "            middle_value = float(a[i])\n",
        "            break\n",
        "\n",
        "        # blanks in the middle\n",
        "    den = 1\n",
        "    flag = 0\n",
        "    for k in range(middle + 1, len(a)):\n",
        "        if a[k] != '_':\n",
        "            den = (k + 1 - middle)\n",
        "            flag = k\n",
        "            break\n",
        "    flag_value = float(a[flag])\n",
        "    for p in range(middle, flag + 1):\n",
        "        a[p] = str((middle_value+flag_value) / den)\n",
        "\n",
        "    # blanks at the right\n",
        "    last_value = float(a[flag])\n",
        "    for q in range(flag, len(a)):\n",
        "        a[q] = str(last_value / (len(a) - flag))\n",
        "\n",
        "    return a\n",
        "\n",
        "\n",
        "S=  \"_,_,30,_,_,_,50,_,_\"\n",
        "print(fill_in_the_blanks(S))"
      ],
      "execution_count": null,
      "outputs": [
        {
          "output_type": "stream",
          "text": [
            "['10.0', '10.0', '12.0', '12.0', '12.0', '12.0', '4.0', '4.0', '4.0']\n"
          ],
          "name": "stdout"
        }
      ]
    },
    {
      "cell_type": "markdown",
      "metadata": {
        "id": "RBz4pzlfB-lB"
      },
      "source": [
        "<h3> Q8: Filling the missing values in the specified formate</h3>\n",
        "You will be given a list of lists, each sublist will be of length 2 i.e. [[x,y],[p,q],[l,m]..[r,s]]\n",
        "consider its like a martrix of n rows and two columns\n",
        "1. the first column F will contain only 5 uniques values (F1, F2, F3, F4, F5)\n",
        "2. the second column S will contain only 3 uniques values (S1, S2, S3)\n",
        "<pre>\n",
        "your task is to find\n",
        "a. Probability of P(F=F1|S==S1), P(F=F1|S==S2), P(F=F1|S==S3)\n",
        "b. Probability of P(F=F2|S==S1), P(F=F2|S==S2), P(F=F2|S==S3)\n",
        "c. Probability of P(F=F3|S==S1), P(F=F3|S==S2), P(F=F3|S==S3)\n",
        "d. Probability of P(F=F4|S==S1), P(F=F4|S==S2), P(F=F4|S==S3)\n",
        "e. Probability of P(F=F5|S==S1), P(F=F5|S==S2), P(F=F5|S==S3)\n",
        "</pre>\n",
        "Ex:\n",
        "\n",
        "<pre>\n",
        "[[F1,S1],[F2,S2],[F3,S3],[F1,S2],[F2,S3],[F3,S2],[F2,S1],[F4,S1],[F4,S3],[F5,S1]]\n",
        "\n",
        "a. P(F=F1|S==S1)=1/4, P(F=F1|S==S2)=1/3, P(F=F1|S==S3)=0/3\n",
        "b. P(F=F2|S==S1)=1/4, P(F=F2|S==S2)=1/3, P(F=F2|S==S3)=1/3\n",
        "c. P(F=F3|S==S1)=0/4, P(F=F3|S==S2)=1/3, P(F=F3|S==S3)=1/3\n",
        "d. P(F=F4|S==S1)=1/4, P(F=F4|S==S2)=0/3, P(F=F4|S==S3)=1/3\n",
        "e. P(F=F5|S==S1)=1/4, P(F=F5|S==S2)=0/3, P(F=F5|S==S3)=0/3\n",
        "</pre>\n",
        "\n",
        "\n"
      ]
    },
    {
      "cell_type": "code",
      "metadata": {
        "id": "e-1giz1MB-lC"
      },
      "source": [
        "# write your python code here\n",
        "# you can take the above example as sample input for your program to test\n",
        "# it should work for any general input try not to hard code for only given input strings\n",
        "\n",
        "\n",
        "\n",
        "# you can free to change all these codes/structure\n",
        "def compute_conditional_probabilites(A):\n",
        "    # your code\n",
        "    # print the output as per the instructions\n",
        "\n",
        "A = [['F1','S1'],['F2','S2'],['F3','S3'],['F1','S2'],['F2','S3'],['F3','S2'],['F2','S1'],['F4','S1'],['F4','S3'],['F5','S1']]\n",
        "\n",
        "compute_conditional_probabilites(A)"
      ],
      "execution_count": null,
      "outputs": []
    },
    {
      "cell_type": "code",
      "metadata": {
        "colab": {
          "base_uri": "https://localhost:8080/"
        },
        "id": "-nuIYpMiWmY7",
        "outputId": "709c79ac-1a53-486f-ad9b-5000cc732d72"
      },
      "source": [
        "A = [['F1','S1'],['F2','S2'],['F3','S3'],['F1','S2'],['F2','S3'],['F3','S2'],['F2','S1'],['F4','S1'],['F4','S3'],['F5','S1']]\n",
        "\n",
        "dictionary1 = {\n",
        " 'F1S1':0,\n",
        " 'F2S1':0,\n",
        " 'F3S1':0,\n",
        " 'F4S1':0,\n",
        " 'F5S1':0,\n",
        " 'F1S2':0,\n",
        " 'F2S2':0,\n",
        " 'F3S2':0,\n",
        " 'F4S2':0,\n",
        " 'F5S2':0,\n",
        " 'F1S3':0,\n",
        " 'F2S3':0,\n",
        " 'F3S3':0,\n",
        " 'F4S3':0,\n",
        " 'F5S3':0,\n",
        "}\n",
        "\n",
        "dictionary2= {\n",
        " 'S1':0,\n",
        " 'S2':0,\n",
        " 'S3':0\n",
        "}\n",
        "\n",
        "def compute_conditional_probabilites(A):\n",
        "    for i in range(len(A)):\n",
        "        if(A[i][0]=='F1'and A[i][1]=='S1'):\n",
        "            dictionary1['F1S1'] = dictionary1['F1S1'] +1\n",
        "            dictionary2['S1'] = dictionary2['S1'] +1\n",
        "        if(A[i][0]=='F1'and A[i][1]=='S2'):\n",
        "            dictionary1['F1S2'] = dictionary1['F1S2'] +1\n",
        "            dictionary2['S2'] = dictionary2['S2'] +1\n",
        "        if(A[i][0]=='F1'and A[i][1]=='S3'):\n",
        "            dictionary1['F1S3'] = dictionary1['F1S3'] +1\n",
        "            dictionary2['S3'] = dictionary2['S3'] +1\n",
        "        if(A[i][0]=='F2'and A[i][1]=='S1'):\n",
        "            dictionary1['F2S1'] = dictionary1['F2S1'] +1\n",
        "            dictionary2['S1'] = dictionary2['S1'] +1\n",
        "        if(A[i][0]=='F2'and A[i][1]=='S2'):\n",
        "            dictionary1['F2S2'] = dictionary1['F2S2'] +1\n",
        "            dictionary2['S2'] = dictionary2['S2'] +1\n",
        "        if(A[i][0]=='F2'and A[i][1]=='S3'):\n",
        "            dictionary1['F2S3'] = dictionary1['F2S3'] +1\n",
        "            dictionary2['S3'] = dictionary2['S3'] +1\n",
        "        if(A[i][0]=='F3'and A[i][1]=='S1'):\n",
        "            dictionary1['F3S1'] = dictionary1['F3S1'] +1\n",
        "            dictionary2['S1'] = dictionary2['S1'] +1\n",
        "        if(A[i][0]=='F3'and A[i][1]=='S2'):\n",
        "            dictionary1['F3S2'] = dictionary1['F3S2'] +1\n",
        "            dictionary2['S2'] = dictionary2['S2'] +1\n",
        "        if(A[i][0]=='F3'and A[i][1]=='S3'):\n",
        "            dictionary1['F3S3'] = dictionary1['F3S3'] +1\n",
        "            dictionary2['S3'] = dictionary2['S3'] +1\n",
        "        if(A[i][0]=='F4'and A[i][1]=='S1'):\n",
        "            dictionary1['F4S1'] = dictionary1['F4S1'] +1\n",
        "            dictionary2['S1'] = dictionary2['S1'] +1\n",
        "        if(A[i][0]=='F4'and A[i][1]=='S2'):\n",
        "            dictionary1['F4S2'] = dictionary1['F4S2'] +1\n",
        "            dictionary2['S2'] = dictionary2['S2'] +1\n",
        "        if(A[i][0]=='F4'and A[i][1]=='S3'):\n",
        "            dictionary1['F4S3'] = dictionary1['F4S3'] +1\n",
        "            dictionary2['S3'] = dictionary2['S3'] +1\n",
        "        if(A[i][0]=='F5'and A[i][1]=='S1'):\n",
        "            dictionary1['F5S1'] = dictionary1['F5S1'] +1\n",
        "            dictionary2['S1'] = dictionary2['S1'] +1\n",
        "        if(A[i][0]=='F5'and A[i][1]=='S2'):\n",
        "            dictionary1['F5S2'] = dictionary1['F5S2'] +1\n",
        "            dictionary2['S2'] = dictionary2['S2'] +1\n",
        "        if(A[i][0]=='F5'and A[i][1]=='S3'):\n",
        "            dictionary1['F5S3'] = dictionary1['F5S3'] +1\n",
        "            dictionary2['S3'] = dictionary2['S3'] +1                                \n",
        "\n",
        "compute_conditional_probabilites(A)\n",
        "\n",
        "print('Probability of P(F=F1|S==S1) =',(dictionary1['F1S1']/dictionary2['S1']))\n",
        "print('Probability of P(F=F1|S==S2) =',(dictionary1['F1S2']/dictionary2['S2']))\n",
        "print('Probability of P(F=F1|S==S3) =',(dictionary1['F1S3']/dictionary2['S3']))\n",
        "print('Probability of P(F=F2|S==S1) =',(dictionary1['F2S1']/dictionary2['S1']))\n",
        "print('Probability of P(F=F2|S==S2) =',(dictionary1['F2S2']/dictionary2['S2']))\n",
        "print('Probability of P(F=F2|S==S3) =',(dictionary1['F2S3']/dictionary2['S3']))\n",
        "print('Probability of P(F=F3|S==S1) =',(dictionary1['F3S1']/dictionary2['S1']))\n",
        "print('Probability of P(F=F3|S==S2) =',(dictionary1['F3S2']/dictionary2['S2']))\n",
        "print('Probability of P(F=F3|S==S3) =',(dictionary1['F3S3']/dictionary2['S3']))\n",
        "print('Probability of P(F=F4|S==S1) =',(dictionary1['F4S1']/dictionary2['S1']))\n",
        "print('Probability of P(F=F4|S==S2) =',(dictionary1['F4S2']/dictionary2['S2']))\n",
        "print('Probability of P(F=F4|S==S3) =',(dictionary1['F4S3']/dictionary2['S3']))\n",
        "print('Probability of P(F=F5|S==S1) =',(dictionary1['F5S1']/dictionary2['S1']))\n",
        "print('Probability of P(F=F5|S==S2) =',(dictionary1['F5S2']/dictionary2['S2']))\n",
        "print('Probability of P(F=F5|S==S3) =',(dictionary1['F5S3']/dictionary2['S3']))"
      ],
      "execution_count": null,
      "outputs": [
        {
          "output_type": "stream",
          "text": [
            "Probability of P(F=F1|S==S1) = 0.25\n",
            "Probability of P(F=F1|S==S2) = 0.3333333333333333\n",
            "Probability of P(F=F1|S==S3) = 0.0\n",
            "Probability of P(F=F2|S==S1) = 0.25\n",
            "Probability of P(F=F2|S==S2) = 0.3333333333333333\n",
            "Probability of P(F=F2|S==S3) = 0.3333333333333333\n",
            "Probability of P(F=F3|S==S1) = 0.0\n",
            "Probability of P(F=F3|S==S2) = 0.3333333333333333\n",
            "Probability of P(F=F3|S==S3) = 0.3333333333333333\n",
            "Probability of P(F=F4|S==S1) = 0.25\n",
            "Probability of P(F=F4|S==S2) = 0.0\n",
            "Probability of P(F=F4|S==S3) = 0.3333333333333333\n",
            "Probability of P(F=F5|S==S1) = 0.25\n",
            "Probability of P(F=F5|S==S2) = 0.0\n",
            "Probability of P(F=F5|S==S3) = 0.0\n"
          ],
          "name": "stdout"
        }
      ]
    },
    {
      "cell_type": "markdown",
      "metadata": {
        "id": "n4HS87QmB-lF"
      },
      "source": [
        "<h3> Q9: Given two sentances S1, S2</h3>\n",
        "You will be given two sentances S1, S2 your task is to find \n",
        "<pre>\n",
        "a. Number of common words between S1, S2\n",
        "b. Words in S1 but not in S2\n",
        "c. Words in S2 but not in S1\n",
        "</pre>\n",
        "\n",
        "Ex: \n",
        "<pre>\n",
        "S1= \"the first column F will contain only 5 uniques values\"\n",
        "S2= \"the second column S will contain only 3 uniques values\"\n",
        "Output:\n",
        "a. 7\n",
        "b. ['first','F','5']\n",
        "c. ['second','S','3']\n",
        "</pre>"
      ]
    },
    {
      "cell_type": "code",
      "metadata": {
        "id": "Ez7hlHK0B-lG"
      },
      "source": [
        "# write your python code here\n",
        "# you can take the above example as sample input for your program to test\n",
        "# it should work for any general input try not to hard code for only given input strings\n",
        "\n",
        "# you can free to change all these codes/structure\n",
        "def string_features(S1, S2):\n",
        "    # your code\n",
        "    return a, b, c\n",
        "\n",
        "S1= \"the first column F will contain only 5 uniques values\"\n",
        "S2= \"the second column S will contain only 3 uniques values\"\n",
        "a,b,c = string_features(S1, S2)\n",
        "print(#the above values)"
      ],
      "execution_count": null,
      "outputs": []
    },
    {
      "cell_type": "code",
      "metadata": {
        "colab": {
          "base_uri": "https://localhost:8080/"
        },
        "id": "ks97V4gYWpRm",
        "outputId": "7cf87692-1a0b-4bcc-f96e-c2593063c772"
      },
      "source": [
        "def string_features(S1,S2):\n",
        "    l = S1.split()\n",
        "    l2 = S2.split()\n",
        "    \n",
        "    s = set(l)\n",
        "    s2 = set(l2)\n",
        "    \n",
        "    length = len(s)+len(s2)\n",
        "    s3 = s.union(s2)\n",
        "    length2 = len(s3)\n",
        "    \n",
        "    return length-length2, s.difference(s2), s2.difference(s)\n",
        "\n",
        "S1= \"the first column F will contain only 5 uniques values\"\n",
        "S2= \"the second column S will contain only 3 uniques values\"\n",
        "a,b,c = string_features(S1, S2)\n",
        "print(a)\n",
        "print(b)\n",
        "print(c)"
      ],
      "execution_count": null,
      "outputs": [
        {
          "output_type": "stream",
          "text": [
            "7\n",
            "{'5', 'F', 'first'}\n",
            "{'3', 'second', 'S'}\n"
          ],
          "name": "stdout"
        }
      ]
    },
    {
      "cell_type": "markdown",
      "metadata": {
        "id": "XefXVEjCB-lI"
      },
      "source": [
        "<h3> Q10: Given two sentances S1, S2</h3>\n",
        "You will be given a list of lists, each sublist will be of length 2 i.e. [[x,y],[p,q],[l,m]..[r,s]]\n",
        "consider its like a martrix of n rows and two columns\n",
        "\n",
        "a. the first column Y will contain interger values <br>\n",
        "b. the second column $Y_{score}$ will be having float values <br>\n",
        "Your task is to find the value of $f(Y,Y_{score}) = -1*\\frac{1}{n}\\Sigma_{for each Y,Y_{score} pair}(Ylog10(Y_{score})+(1-Y)log10(1-Y_{score}))$ here n is the number of rows in the matrix\n",
        "<pre>\n",
        "Ex:\n",
        "[[1, 0.4], [0, 0.5], [0, 0.9], [0, 0.3], [0, 0.6], [1, 0.1], [1, 0.9], [1, 0.8]]\n",
        "output:\n",
        "0.4243099\n",
        "</pre>\n",
        "$\\frac{-1}{8}\\cdot((1\\cdot log_{10}(0.4)+0\\cdot log_{10}(0.6))+(0\\cdot log_{10}(0.5)+1\\cdot log_{10}(0.5)) + ... + (1\\cdot log_{10}(0.8)+0\\cdot log_{10}(0.2)) )$"
      ]
    },
    {
      "cell_type": "code",
      "metadata": {
        "id": "N9zkagyNB-lJ"
      },
      "source": [
        "# write your python code here\n",
        "# you can take the above example as sample input for your program to test\n",
        "# it should work for any general input try not to hard code for only given input strings\n",
        "\n",
        "\n",
        "# you can free to change all these codes/structure\n",
        "def compute_log_loss(A):\n",
        "    # your code\n",
        "    \n",
        "    return loss\n",
        "\n",
        "A = [[1, 0.4], [0, 0.5], [0, 0.9], [0, 0.3], [0, 0.6], [1, 0.1], [1, 0.9], [1, 0.8]]\n",
        "loss = compute_log_loss(A)\n",
        "print(# the above loss)"
      ],
      "execution_count": null,
      "outputs": []
    },
    {
      "cell_type": "code",
      "metadata": {
        "colab": {
          "base_uri": "https://localhost:8080/"
        },
        "id": "K3HANxW6XCVQ",
        "outputId": "b60a5f0d-73a8-4261-9a08-a86b28767993"
      },
      "source": [
        "def compute_log_loss(arr):\n",
        "  loss = 0\n",
        "  for i in range(len(arr)):\n",
        "      loss += ((arr[i][0]*math.log10(arr[i][1])) + ((1-arr[i][0])*math.log10(1-arr[i][1])))\n",
        "  return -(loss/len(arr))\n",
        "\n",
        "\n",
        "A = [[1, 0.4], [0, 0.5], [0, 0.9], [0, 0.3], [0, 0.6], [1, 0.1], [1, 0.9], [1, 0.8]]\n",
        "loss = compute_log_loss(A)\n",
        "print(loss)"
      ],
      "execution_count": null,
      "outputs": [
        {
          "output_type": "stream",
          "text": [
            "0.42430993457031635\n"
          ],
          "name": "stdout"
        }
      ]
    },
    {
      "cell_type": "code",
      "metadata": {
        "id": "hpf6QsSuXH_U"
      },
      "source": [
        ""
      ],
      "execution_count": null,
      "outputs": []
    }
  ]
}